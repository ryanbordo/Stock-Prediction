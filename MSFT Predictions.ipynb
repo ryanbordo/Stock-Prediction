{
 "cells": [
  {
   "cell_type": "code",
   "execution_count": 78,
   "id": "8f15c19e",
   "metadata": {},
   "outputs": [],
   "source": [
    "import pandas as pd\n",
    "import numpy as np\n",
    "import sklearn\n",
    "import os\n",
    "import glob\n",
    "import re"
   ]
  },
  {
   "cell_type": "code",
   "execution_count": 105,
   "id": "a20e94a4",
   "metadata": {},
   "outputs": [
    {
     "name": "stdout",
     "output_type": "stream",
     "text": [
      "AAPL.csv\n",
      "ADBE.csv\n",
      "MSFT.csv\n",
      "ORCL.csv\n",
      "SPY.csv\n"
     ]
    }
   ],
   "source": [
    "df = pd.DataFrame()\n",
    "for file_name in glob.glob(\"data/*.csv\"):\n",
    "    x = pd.read_csv(file_name, low_memory=False)\n",
    "    x[\"Stock\"] = os.path.basename(file_name)[:-4]\n",
    "    print(os.path.basename(file_name))\n",
    "    df = pd.concat([all_data,x],axis=0)"
   ]
  },
  {
   "cell_type": "code",
   "execution_count": 104,
   "id": "29813aee",
   "metadata": {},
   "outputs": [
    {
     "data": {
      "text/plain": [
       "(61540, 14)"
      ]
     },
     "execution_count": 104,
     "metadata": {},
     "output_type": "execute_result"
    }
   ],
   "source": [
    "df.shape"
   ]
  },
  {
   "cell_type": "code",
   "execution_count": 99,
   "id": "2ed44ced",
   "metadata": {},
   "outputs": [],
   "source": [
    "df[\"Date\"] = pd.to_datetime(df[\"Date\"])\n",
    "df[\"Year\"] = df[\"Date\"].dt.year\n",
    "df[\"Month\"] = df[\"Date\"].dt.month\n",
    "df[\"Day\"] = df[\"Date\"].dt.day\n",
    "df[\"Weekday\"] = df[\"Date\"].dt.weekday\n",
    "df[\"Change\"] = df[\"Close\"] - df[\"Open\"]\n",
    "df[\"% Change\"] = 100 * df[\"Change\"] / df[\"Open\"]"
   ]
  },
  {
   "cell_type": "code",
   "execution_count": 100,
   "id": "d697fa7a",
   "metadata": {},
   "outputs": [
    {
     "data": {
      "text/plain": [
       "Date         0\n",
       "Open         0\n",
       "High         0\n",
       "Low          0\n",
       "Close        0\n",
       "Adj Close    0\n",
       "Volume       0\n",
       "Stock        0\n",
       "Year         0\n",
       "Month        0\n",
       "Day          0\n",
       "Weekday      0\n",
       "Change       0\n",
       "% Change     0\n",
       "dtype: int64"
      ]
     },
     "execution_count": 100,
     "metadata": {},
     "output_type": "execute_result"
    }
   ],
   "source": [
    "df.isna().sum()"
   ]
  },
  {
   "cell_type": "code",
   "execution_count": 102,
   "id": "1f07b30a",
   "metadata": {},
   "outputs": [
    {
     "data": {
      "text/plain": [
       "(61540, 14)"
      ]
     },
     "execution_count": 102,
     "metadata": {},
     "output_type": "execute_result"
    }
   ],
   "source": [
    "df.shape"
   ]
  },
  {
   "cell_type": "code",
   "execution_count": 103,
   "id": "51424bfa",
   "metadata": {},
   "outputs": [
    {
     "data": {
      "text/html": [
       "<div>\n",
       "<style scoped>\n",
       "    .dataframe tbody tr th:only-of-type {\n",
       "        vertical-align: middle;\n",
       "    }\n",
       "\n",
       "    .dataframe tbody tr th {\n",
       "        vertical-align: top;\n",
       "    }\n",
       "\n",
       "    .dataframe thead th {\n",
       "        text-align: right;\n",
       "    }\n",
       "</style>\n",
       "<table border=\"1\" class=\"dataframe\">\n",
       "  <thead>\n",
       "    <tr style=\"text-align: right;\">\n",
       "      <th></th>\n",
       "      <th>Date</th>\n",
       "      <th>Open</th>\n",
       "      <th>High</th>\n",
       "      <th>Low</th>\n",
       "      <th>Close</th>\n",
       "      <th>Adj Close</th>\n",
       "      <th>Volume</th>\n",
       "      <th>Year</th>\n",
       "      <th>Month</th>\n",
       "      <th>Day</th>\n",
       "      <th>Weekday</th>\n",
       "      <th>Change</th>\n",
       "      <th>% Change</th>\n",
       "    </tr>\n",
       "    <tr>\n",
       "      <th>Stock</th>\n",
       "      <th></th>\n",
       "      <th></th>\n",
       "      <th></th>\n",
       "      <th></th>\n",
       "      <th></th>\n",
       "      <th></th>\n",
       "      <th></th>\n",
       "      <th></th>\n",
       "      <th></th>\n",
       "      <th></th>\n",
       "      <th></th>\n",
       "      <th></th>\n",
       "      <th></th>\n",
       "    </tr>\n",
       "  </thead>\n",
       "  <tbody>\n",
       "    <tr>\n",
       "      <th>AAPL</th>\n",
       "      <td>500</td>\n",
       "      <td>500</td>\n",
       "      <td>500</td>\n",
       "      <td>500</td>\n",
       "      <td>500</td>\n",
       "      <td>500</td>\n",
       "      <td>500</td>\n",
       "      <td>500</td>\n",
       "      <td>500</td>\n",
       "      <td>500</td>\n",
       "      <td>500</td>\n",
       "      <td>500</td>\n",
       "      <td>500</td>\n",
       "    </tr>\n",
       "    <tr>\n",
       "      <th>ADBE</th>\n",
       "      <td>18638</td>\n",
       "      <td>18638</td>\n",
       "      <td>18638</td>\n",
       "      <td>18638</td>\n",
       "      <td>18638</td>\n",
       "      <td>18638</td>\n",
       "      <td>18638</td>\n",
       "      <td>18638</td>\n",
       "      <td>18638</td>\n",
       "      <td>18638</td>\n",
       "      <td>18638</td>\n",
       "      <td>18638</td>\n",
       "      <td>18638</td>\n",
       "    </tr>\n",
       "    <tr>\n",
       "      <th>MSFT</th>\n",
       "      <td>18850</td>\n",
       "      <td>18850</td>\n",
       "      <td>18850</td>\n",
       "      <td>18850</td>\n",
       "      <td>18850</td>\n",
       "      <td>18850</td>\n",
       "      <td>18850</td>\n",
       "      <td>18850</td>\n",
       "      <td>18850</td>\n",
       "      <td>18850</td>\n",
       "      <td>18850</td>\n",
       "      <td>18850</td>\n",
       "      <td>18850</td>\n",
       "    </tr>\n",
       "    <tr>\n",
       "      <th>ORCL</th>\n",
       "      <td>500</td>\n",
       "      <td>500</td>\n",
       "      <td>500</td>\n",
       "      <td>500</td>\n",
       "      <td>500</td>\n",
       "      <td>500</td>\n",
       "      <td>500</td>\n",
       "      <td>500</td>\n",
       "      <td>500</td>\n",
       "      <td>500</td>\n",
       "      <td>500</td>\n",
       "      <td>500</td>\n",
       "      <td>500</td>\n",
       "    </tr>\n",
       "    <tr>\n",
       "      <th>SPY</th>\n",
       "      <td>23052</td>\n",
       "      <td>23052</td>\n",
       "      <td>23052</td>\n",
       "      <td>23052</td>\n",
       "      <td>23052</td>\n",
       "      <td>23052</td>\n",
       "      <td>23052</td>\n",
       "      <td>23052</td>\n",
       "      <td>23052</td>\n",
       "      <td>23052</td>\n",
       "      <td>23052</td>\n",
       "      <td>23052</td>\n",
       "      <td>23052</td>\n",
       "    </tr>\n",
       "  </tbody>\n",
       "</table>\n",
       "</div>"
      ],
      "text/plain": [
       "        Date   Open   High    Low  Close  Adj Close  Volume   Year  Month  \\\n",
       "Stock                                                                       \n",
       "AAPL     500    500    500    500    500        500     500    500    500   \n",
       "ADBE   18638  18638  18638  18638  18638      18638   18638  18638  18638   \n",
       "MSFT   18850  18850  18850  18850  18850      18850   18850  18850  18850   \n",
       "ORCL     500    500    500    500    500        500     500    500    500   \n",
       "SPY    23052  23052  23052  23052  23052      23052   23052  23052  23052   \n",
       "\n",
       "         Day  Weekday  Change  % Change  \n",
       "Stock                                    \n",
       "AAPL     500      500     500       500  \n",
       "ADBE   18638    18638   18638     18638  \n",
       "MSFT   18850    18850   18850     18850  \n",
       "ORCL     500      500     500       500  \n",
       "SPY    23052    23052   23052     23052  "
      ]
     },
     "execution_count": 103,
     "metadata": {},
     "output_type": "execute_result"
    }
   ],
   "source": [
    "df.groupby(by = [\"Stock\"]).count()"
   ]
  },
  {
   "cell_type": "code",
   "execution_count": null,
   "id": "bc98acf5",
   "metadata": {},
   "outputs": [],
   "source": []
  },
  {
   "cell_type": "code",
   "execution_count": null,
   "id": "56c2588b",
   "metadata": {},
   "outputs": [],
   "source": []
  }
 ],
 "metadata": {
  "kernelspec": {
   "display_name": "Python 3 (ipykernel)",
   "language": "python",
   "name": "python3"
  },
  "language_info": {
   "codemirror_mode": {
    "name": "ipython",
    "version": 3
   },
   "file_extension": ".py",
   "mimetype": "text/x-python",
   "name": "python",
   "nbconvert_exporter": "python",
   "pygments_lexer": "ipython3",
   "version": "3.9.13"
  }
 },
 "nbformat": 4,
 "nbformat_minor": 5
}
